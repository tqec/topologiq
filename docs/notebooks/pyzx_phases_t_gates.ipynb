{
 "cells": [
  {
   "cell_type": "markdown",
   "id": "325ca446",
   "metadata": {},
   "source": [
    "# PyZX interoperability: phases and T-gates"
   ]
  },
  {
   "cell_type": "code",
   "execution_count": null,
   "id": "395d6c98",
   "metadata": {},
   "outputs": [],
   "source": [
    "import os\n",
    "import sys\n",
    "import pyzx as zx\n",
    "from pathlib import Path\n",
    "from fractions import Fraction\n",
    "from pyzx.utils import EdgeType\n",
    "\n",
    "from topologiq.scripts.runner import runner\n",
    "from topologiq.utils.interop_pyzx import pyzx_g_to_simple_g\n",
    "from topologiq.utils.utils_zx_graphs import kind_to_zx_type\n",
    "\n",
    "repository_root = os.path.abspath(os.path.join(os.getcwd(), \"..\", \"..\"))\n",
    "output_folder_path = f\"{repository_root}/outputs/txt\"\n",
    "if repository_root not in sys.path:\n",
    "    sys.path.insert(0, repository_root)\n",
    "\n",
    "zx.settings.colors = zx.rgb_colors\n",
    "%matplotlib widget"
   ]
  },
  {
   "cell_type": "markdown",
   "id": "47982202",
   "metadata": {},
   "source": [
    "This notebook offers an example of how perform an algorithmic lattice surgery with ***topologiq*** in a way that permits transferring or applying the phases in the original PyZX graph to the lattice surgery produced by ***topologiq*** and using this information to determine which blocks in the final result are T-gates."
   ]
  },
  {
   "cell_type": "markdown",
   "id": "52f04e19",
   "metadata": {},
   "source": [
    "## Input: Preparing a PyZX graph"
   ]
  },
  {
   "cell_type": "markdown",
   "id": "22a40b10",
   "metadata": {},
   "source": [
    "We'll use a graph that is large enough to allow a variety of spiders with and without phases but also sufficiently short to not have to wait too long for the result to be ready for manipulation.\n",
    "\n",
    "Note that while we draw the graph using `zx.draw()`, we also save the matplotlib figure separately. We'll use it later."
   ]
  },
  {
   "cell_type": "code",
   "execution_count": null,
   "id": "c4f2641e",
   "metadata": {},
   "outputs": [],
   "source": [
    "circuit_name = \"pyzx_example_t_gates\"\n",
    "\n",
    "c = zx.Circuit(3)\n",
    "c.add_gate(\"ZPhase\", 0, phase=Fraction(1,2))\n",
    "c.add_gate(\"CNOT\", 0, 2)\n",
    "c.add_gate(\"CNOT\", 1, 2)\n",
    "c.add_gate(\"CNOT\", 0, 2)\n",
    "c.add_gate(\"ZPhase\", 1, phase=Fraction(1,1))\n",
    "c.add_gate(\"ZPhase\", 2, phase=Fraction(1,4))\n",
    "\n",
    "pyzx_graph = c.to_graph()\n",
    "pyzx_graph.add_edge(edge_pair=(8,5),  edgetype=EdgeType.SIMPLE)\n",
    "pyzx_graph.add_to_phase(vertex=7, phase=Fraction(1/2))\n",
    "pyzx_graph.add_to_phase(vertex=10, phase=Fraction(1/4))\n",
    "\n",
    "zx.draw(pyzx_graph, labels=True)\n",
    "fig_data = zx.draw_matplotlib(pyzx_graph, labels=True)"
   ]
  },
  {
   "cell_type": "markdown",
   "id": "d6e9160b",
   "metadata": {},
   "source": [
    "## Process: Running the algorithm"
   ]
  },
  {
   "cell_type": "markdown",
   "id": "4da8fd99",
   "metadata": {},
   "source": [
    "To feed the graph into the algorithm, we first need to convert the PyZX graph into ***topologiq***'s native format, a `simple_graph`: a simple dictionary of nodes and edges.\n",
    "\n",
    "The conversion removes information that is not needed for foundational operations, i.e., converting the graph into a 3D version of itself.\n",
    "\n",
    "We will recover that information later in the process."
   ]
  },
  {
   "cell_type": "code",
   "execution_count": null,
   "id": "85648127",
   "metadata": {},
   "outputs": [],
   "source": [
    "simple_graph = pyzx_g_to_simple_g(pyzx_graph)\n",
    "print(simple_graph)"
   ]
  },
  {
   "cell_type": "markdown",
   "id": "6b1d0866",
   "metadata": {},
   "source": [
    "The next step is to give the `simple_graph` to ***topologiq*** and let it work its magic (it's not magic, but let's pretend it is).\n",
    "\n",
    "In short, ***topologiq*** will traverse that graph using a Breadth-First Search (BFS) approach and exchange all spiders and edges in the original graph for a 3D version of themselves.\n",
    "\n",
    "If/when the lattice surgery is complete, ***topologiq*** will produce:\n",
    "- text results saved to `[root]/outputs/txt/` that includes the final surgery/space-time diagram,\n",
    "- and related objects for programmatic use.\n",
    "\n",
    "Additional visualisations options are available but come at a significant cost in runtimes. Check ***topologiq***'s [README](../../README.md) for details."
   ]
  },
  {
   "cell_type": "code",
   "execution_count": null,
   "id": "3753a6c4",
   "metadata": {},
   "outputs": [],
   "source": [
    "# Define weights for the value function to to choose best of several valid paths per each edge based on: (length of path, number of beams broken by path)\n",
    "# A negative value for length of path favours short paths.\n",
    "# A negative value for number of beams broken by path favours placements that do not block potential open faces requiring connections.\n",
    "VALUE_FUNCTION_HYPERPARAMS = (-1, -1)\n",
    "\n",
    "# Define a desired length of beams\n",
    "# The longer the beams, the more space between faces. This feature needs improvement but, in theory, increases the odds of success.\n",
    "# Needs to be combined with an equal or larger `MAX_PATHFINDER_SEARCH_SPACE`\n",
    "LENGTH_OF_BEAMS = 9\n",
    "\n",
    "kwargs = {\"weights\": VALUE_FUNCTION_HYPERPARAMS, \"length_of_beams\": LENGTH_OF_BEAMS}\n",
    "\n",
    "simple_graph_after_use, edge_pths, lattice_nodes, lattice_edges = runner(\n",
    "    simple_graph,\n",
    "    circuit_name,\n",
    "    strip_boundaries=False,\n",
    "    hide_boundaries=False,\n",
    "    max_attempts=10,\n",
    "    vis_options=(\"final\", None),\n",
    "    fig_data=fig_data,  # This is where we use the fig_data from PyZX, so it's overlaid on top of progress and final visualisations\n",
    "    **kwargs\n",
    ")"
   ]
  },
  {
   "cell_type": "markdown",
   "id": "0def7330",
   "metadata": {},
   "source": [
    "## Output: Transferring phases and identifying T-gates in outputs"
   ]
  },
  {
   "cell_type": "markdown",
   "id": "e68d8634",
   "metadata": {},
   "source": [
    "It is helpful to visualise the relation between the original PyZX graph and the resulting lattice surgery / space-time diagram. This is possible by printing the edges of the original graph alongside their 3D correspondences.\n",
    "- Short edges with three items (block-pipe-block) are edges cleared easily by simply placing a spider into the 3D space at a location determined optimal by the algorithm.\n",
    "- Long edges containing more than three items are edges that had to be broken into segments, typically as a result of having been processed after its source and target nodes had already been placed in the 3D space and therefore had fixed coordinates and 3D kinds."
   ]
  },
  {
   "cell_type": "code",
   "execution_count": null,
   "id": "050c1e55",
   "metadata": {},
   "outputs": [],
   "source": [
    "zx.draw(pyzx_graph, labels=True)\n",
    "\n",
    "if edge_pths:\n",
    "    for key, edge in edge_pths.items():\n",
    "        block_by_block = []\n",
    "        nodes_and_edges = []\n",
    "        for node in edge[\"pth_nodes\"]:\n",
    "            block_by_block.append(node[1])\n",
    "            nodes_and_edges.append(kind_to_zx_type(node[1]))\n",
    "        print(f\"{key}: {'-'.join(block_by_block)} ({' - '.join(nodes_and_edges)})\")"
   ]
  },
  {
   "cell_type": "markdown",
   "id": "e73b3eb1",
   "metadata": {},
   "source": [
    "It is also helpful to print `lattice_nodes` and `lattice_edges`. They contain the resulting lattice surgery / space-time diagram in the form of a dictionary with nodes and edges.\n",
    "\n",
    "Notice that some of the 3D blocks in `lattice_nodes` have the same IDs as the spiders in the original ZX graph. These blocks are a direct instantiation of the original ZX spider with equal ID. Blocks with IDs different to those in the original ZX graph are intermediary blocks added by the algorithm to clear edges in 3D."
   ]
  },
  {
   "cell_type": "code",
   "execution_count": null,
   "id": "aaa678c6",
   "metadata": {},
   "outputs": [],
   "source": [
    "if lattice_nodes:\n",
    "    for key, node in lattice_nodes.items():\n",
    "        print(f\"Node ID {key}: {node}.\")\n",
    "\n",
    "if lattice_edges:\n",
    "    for key, edge in lattice_edges.items():\n",
    "        print(f\"Edge ID {key}: {edge[0]} (corresponding edge in ZX-graph: {edge[1]}).\")"
   ]
  },
  {
   "cell_type": "markdown",
   "id": "bd1a407c",
   "metadata": {},
   "source": [
    "As ellaborated [here](https://arxiv.org/pdf/1902.03178) and [here](https://arxiv.org/pdf/1903.10477), non-Clifford phases are those which are not multiples of π/2. It is therefore possible to identify T-gates in the final lattice surgery / space-time diagram in two steps:\n",
    "- Transfer the phases of the original spiders to their corresponding instance in `lattice_nodes`, \n",
    "- Use phases to to identify T-gates."
   ]
  },
  {
   "cell_type": "code",
   "execution_count": null,
   "id": "9195a6dd",
   "metadata": {},
   "outputs": [],
   "source": [
    "map_of_phases = pyzx_graph.phases()\n",
    "lattice_nodes_extended = {}\n",
    "\n",
    "if lattice_nodes:\n",
    "    for id, node in lattice_nodes.items():\n",
    "        position, kind = node\n",
    "        phase = map_of_phases[id] if id in map_of_phases.keys() else 0\n",
    "        gate_type = \"T\" if (isinstance(phase, Fraction) and phase % Fraction(1/2) != Fraction(0/1)) else \"Clifford\"\n",
    "        lattice_nodes_extended[id] = (position, kind, phase, gate_type)"
   ]
  },
  {
   "cell_type": "markdown",
   "id": "19404c19",
   "metadata": {},
   "source": [
    "Finally, we can review the result by printing it to screen and/or appending it to previously saved text outputs."
   ]
  },
  {
   "cell_type": "code",
   "execution_count": null,
   "id": "18ba3a1b",
   "metadata": {},
   "outputs": [],
   "source": [
    "for id, node in lattice_nodes_extended.items():\n",
    "    print(f\"{id}: {node}\")\n",
    "\n",
    "lines = []\n",
    "if lattice_nodes_extended and lattice_edges:\n",
    "    lines.append(\n",
    "        \"\\n__________________________\\nLATTICE SURGERY EXTENDED (Graph + Phases)\\n\"\n",
    "    )\n",
    "    for key, node in lattice_nodes_extended.items():\n",
    "        lines.append(f\"Node ID: {key}. Info: {node}\\n\")\n",
    "    for key, edge_info in lattice_edges.items():\n",
    "         lines.append(f\"Edge ID: {key}. Kind: {edge_info[0]}. Original edge in ZX graph: {edge_info[1]} \\n\")\n",
    "\n",
    "    Path(output_folder_path).mkdir(parents=True, exist_ok=True)\n",
    "    with open(f\"{output_folder_path}/{circuit_name}.txt\", \"a\") as f:\n",
    "        f.writelines(lines)\n",
    "        f.close()\n",
    "\n",
    "    print(f\"\\nResult saved to: <...>/{circuit_name}.txt\")"
   ]
  }
 ],
 "metadata": {
  "kernelspec": {
   "display_name": ".venv (3.12.6)",
   "language": "python",
   "name": "python3"
  },
  "language_info": {
   "codemirror_mode": {
    "name": "ipython",
    "version": 3
   },
   "file_extension": ".py",
   "mimetype": "text/x-python",
   "name": "python",
   "nbconvert_exporter": "python",
   "pygments_lexer": "ipython3",
   "version": "3.12.6"
  }
 },
 "nbformat": 4,
 "nbformat_minor": 5
}
