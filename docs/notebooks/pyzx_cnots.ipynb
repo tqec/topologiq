{
 "cells": [
  {
   "cell_type": "markdown",
   "id": "325ca446",
   "metadata": {},
   "source": [
    "# PyZX interoperability: a simple graph"
   ]
  },
  {
   "cell_type": "code",
   "execution_count": null,
   "id": "395d6c98",
   "metadata": {},
   "outputs": [],
   "source": [
    "import os\n",
    "import sys\n",
    "import pyzx as zx\n",
    "\n",
    "from topologiq.scripts.runner import runner\n",
    "from topologiq.utils.interop_pyzx import pyzx_g_to_simple_g\n",
    "from topologiq.utils.utils_zx_graphs import kind_to_zx_type\n",
    "\n",
    "root_folder = os.path.abspath(os.path.join(os.getcwd(), \"..\", \"..\"))\n",
    "if root_folder not in sys.path:\n",
    "    sys.path.insert(0, root_folder)\n",
    "\n",
    "zx.settings.colors = zx.rgb_colors\n",
    "%matplotlib widget"
   ]
  },
  {
   "cell_type": "markdown",
   "id": "47982202",
   "metadata": {},
   "source": [
    "This notebook offers an example of how to use ***topologiq*** to perform an algorithmic lattice surgery of a simple PyZX graph."
   ]
  },
  {
   "cell_type": "markdown",
   "id": "52f04e19",
   "metadata": {},
   "source": [
    "## Input: Preparing a PyZX graph"
   ]
  },
  {
   "cell_type": "markdown",
   "id": "22a40b10",
   "metadata": {},
   "source": [
    "We'll use a simple PyZX graph for this notebook, consisting of three CNOTs but, in theory, ***topologiq*** can take any PyZX graph as long as all qubit lines interconnect (disconnected qubit lines mean the PyZX graph has subgraphs / separate logical computations, in which case only one subgraph is considered).\n",
    "\n",
    "Note that while we draw the graph using `zx.draw()`, we also save the matplotlib figure separately. We'll use it later."
   ]
  },
  {
   "cell_type": "code",
   "execution_count": null,
   "id": "c4f2641e",
   "metadata": {},
   "outputs": [],
   "source": [
    "circuit_name = \"pyzx_example_cnots\"\n",
    "\n",
    "c = zx.Circuit(2)\n",
    "c.add_gate(\"CNOT\", 0, 1)\n",
    "c.add_gate(\"CNOT\", 1, 0)\n",
    "c.add_gate(\"CNOT\", 1, 0)\n",
    "\n",
    "pyzx_graph = c.to_graph()\n",
    "\n",
    "zx.draw(pyzx_graph, labels=True)\n",
    "fig_data = zx.draw_matplotlib(pyzx_graph, labels=True)"
   ]
  },
  {
   "cell_type": "markdown",
   "id": "d6e9160b",
   "metadata": {},
   "source": [
    "## Process: Running the algorithm"
   ]
  },
  {
   "cell_type": "markdown",
   "id": "4da8fd99",
   "metadata": {},
   "source": [
    "PyZX graphs have information that that is not needed to undertake the foundatoinal placement of spiders in a 3D space. So, we first need to convert the PyZX graph into ***topologiq***'s native format, a `simple_graph`: a simple dictionary of nodes and edges.\n",
    "\n",
    "There is a single instruction to distill a PyZX graph into a `simple_graph`. It undertakes all steps below:\n",
    "- Dump the entire PyZX graph into a dictionary using PyZX internal methods,\n",
    "- Transform into a dictionary with clear syntax for 3D positioning but all values zeroed out,\n",
    "- Distill the 3D dictionary into a simpler dictionary for consumption by the algorithm."
   ]
  },
  {
   "cell_type": "code",
   "execution_count": null,
   "id": "85648127",
   "metadata": {},
   "outputs": [],
   "source": [
    "simple_graph = pyzx_g_to_simple_g(pyzx_graph)\n",
    "print(simple_graph)"
   ]
  },
  {
   "cell_type": "markdown",
   "id": "6b1d0866",
   "metadata": {},
   "source": [
    "The next step is to feed the `simple_graph` to ***topologiq*** and let it undertake algorithmic lattice surgery of the circuit.\n",
    "\n",
    "In short, ***topologiq*** will traverse that graph using a Breadth-First Search (BFS) approach and exchange all spiders and edges in the original graph for a 3D version of themselves.\n",
    "\n",
    "If/when the lattice surgery is complete, ***topologiq*** will produce:\n",
    "- text results saved to `[root]/outputs/txt/` that includes the final surgery/space-time diagram,\n",
    "- and related objects for programmatic use.\n",
    "\n",
    "Additional visualisations options are available but come at a significant cost in runtimes. Check ***topologiq***'s [README](../../README.md) for details.\n",
    "\n",
    "> **Note.** The visualisation in this notebook shows the final result, but you can get step by step visuals by changing `visualise=(\"final\", None)` to `visualise=(\"detail\", None)`. Additionally, ***topologiq*** can also produce an animated GIF summary of the surgery: use `visualise=(\"final\", \"GIF\")` or `visualise=(\"final\", \"MP4\")` (MP4 production requires FFmpeg to be installed separately). Be aware visualisations can consume significant computing resources and will significantly impact runtimes."
   ]
  },
  {
   "cell_type": "code",
   "execution_count": null,
   "id": "3753a6c4",
   "metadata": {},
   "outputs": [],
   "source": [
    "# Define weights for the value function to to choose best of several valid paths per each edge based on: (length of path, number of beams broken by path)\n",
    "# A negative value for length of path favours short paths.\n",
    "# A negative value for number of beams broken by path favours placements that do not block potential open faces requiring connections.\n",
    "VALUE_FUNCTION_HYPERPARAMS = (-1, -1)\n",
    "\n",
    "# Define a desired length of beams\n",
    "# The longer the beams, the more space between faces. This feature needs improvement but, in theory, increases the odds of success.\n",
    "# Needs to be combined with an equal or larger `MAX_PATHFINDER_SEARCH_SPACE`\n",
    "LENGTH_OF_BEAMS = 9\n",
    "\n",
    "kwargs = {\n",
    "    \"weights\": VALUE_FUNCTION_HYPERPARAMS,\n",
    "    \"length_of_beams\": LENGTH_OF_BEAMS,\n",
    "}\n",
    "\n",
    "zx.draw(pyzx_graph, labels=True)\n",
    "\n",
    "simple_graph_after_use, edge_pths, lattice_nodes, lattice_edges = runner(\n",
    "    simple_graph,\n",
    "    circuit_name,\n",
    "    strip_boundaries=False,\n",
    "    hide_boundaries=False,\n",
    "    max_attempts=10,\n",
    "    vis_options=(\"final\", None),\n",
    "    fig_data=fig_data,  # This is where we use the fig_data from PyZX, so it's overlaid on top of progress and final visualisations\n",
    "    **kwargs\n",
    ")"
   ]
  },
  {
   "cell_type": "markdown",
   "id": "0def7330",
   "metadata": {},
   "source": [
    "## Output: Using outputs"
   ]
  },
  {
   "cell_type": "markdown",
   "id": "bd1a407c",
   "metadata": {},
   "source": [
    "The algorithm returns four objects:\n",
    "- `simple_graph_after_use`: the original `simple_graph`, returned for convenience.\n",
    "- `edge_pths`: a set of 3D edges where each edge corresponds to the original edges in the ZX graph but where the \"nodes\" have been exchanged for all 3D blocks and pipes needed to clear the edge in a 3D space (contains redundant nodes across edges).\n",
    "- `lattice_nodes`: all nodes in `edge_pths` distilled into a single lattice surgery / space-time diagram object.\n",
    "- `lattice_edges`: all edges in `edge_pths` distilled into a single lattice surgery / space-time diagram object.\n",
    "\n",
    "These objects can be used variously.\n",
    "\n",
    "For instance, with more complex graphs, it is possible to link information in the original PyZX graph with the results in these objects.\n",
    "\n",
    "Having said that, since the circuit in this notebook is very simple, we will now limit ourselves to taking a closer look at how each edge is constructed, by comparing the original PyZX graph with the `edge_pths` object."
   ]
  },
  {
   "cell_type": "code",
   "execution_count": null,
   "id": "3e539d39",
   "metadata": {},
   "outputs": [],
   "source": [
    "zx.draw(pyzx_graph, labels=True)\n",
    "\n",
    "if edge_pths:\n",
    "    for key, edge in edge_pths.items():\n",
    "        block_by_block = []\n",
    "        nodes_and_edges = []\n",
    "        for node in edge[\"pth_nodes\"]:\n",
    "            block_by_block.append(node[1])\n",
    "            nodes_and_edges.append(kind_to_zx_type(node[1]))\n",
    "        print(f\"{key}: {'-'.join(block_by_block)} ({' - '.join(nodes_and_edges)})\")"
   ]
  }
 ],
 "metadata": {
  "kernelspec": {
   "display_name": ".venv (3.12.6)",
   "language": "python",
   "name": "python3"
  },
  "language_info": {
   "codemirror_mode": {
    "name": "ipython",
    "version": 3
   },
   "file_extension": ".py",
   "mimetype": "text/x-python",
   "name": "python",
   "nbconvert_exporter": "python",
   "pygments_lexer": "ipython3",
   "version": "3.12.6"
  }
 },
 "nbformat": 4,
 "nbformat_minor": 5
}
